{
 "cells": [
  {
   "cell_type": "code",
   "execution_count": 77,
   "metadata": {},
   "outputs": [],
   "source": [
    "import numpy as np\n",
    "import matplotlib.pyplot as plt\n",
    "import pandas as pd\n",
    "from sklearn.metrics import r2_score\n",
    "from scipy.optimize import curve_fit"
   ]
  },
  {
   "cell_type": "code",
   "execution_count": 92,
   "metadata": {},
   "outputs": [],
   "source": [
    "Material = \"copper\"\n",
    "fileneame = Material + \"_fl_\"\n",
    "Df = pd.DataFrame()\n",
    "for i in [\"02\", \"03\", \"04\", \"06\", \"u\"]:\n",
    "    Data = pd.read_csv(filename + i + \".csv\", delimiter = \",\", header = None)\n",
    "    Df[Material + i + \"_time\"] = Data[0]\n",
    "    Df[Material + i + \"_axis\"] = Data[2]\n",
    "    Df[Material + i + \"_acceleration\"] =Data[3]\n",
    "Df = Df.dropna() #Makes sure they have run for equal amount of time\n"
   ]
  },
  {
   "cell_type": "code",
   "execution_count": 76,
   "metadata": {},
   "outputs": [],
   "source": [
    "def linfunc(x, a, b):\n",
    "    return a*x + b"
   ]
  },
  {
   "cell_type": "code",
   "execution_count": null,
   "metadata": {},
   "outputs": [],
   "source": [
    "results = pd.DataFrame()\n",
    "for axis in range(3):\n",
    "    AvgAcc, FlowRate = [], []\n",
    "    AxisDf = Df[Df[Material + \"02_axis\"]  == axis]\n",
    "\n",
    "    for i in [\"02\", \"03\", \"04\", \"06\"]:\n",
    "        AvgAcc.append(AxisDf[Material + i + \"_acceleration\"].mean())\n",
    "        FlowRate.append(int(i))\n",
    "\n",
    "    par, cov = curve_fit(linfunc, FlowRate, AvgAcc)\n",
    "\n",
    "    Xfit = np.linspace(0, 10, 1000)\n",
    "    Yfit = linfunc(Xfit, *par)\n",
    "\n",
    "    r2score = r2_score(AvgAcc, linfunc(np.asarray(FlowRate), *par))\n",
    "\n",
    "    results[\"Material\"] = Material\n",
    "    results[\"R2_score\"] = r2_score\n",
    "    \n",
    "    # plt.plot(Xfit, Yfit)\n",
    "\n",
    "\n",
    "    # plt.plot(FlowRate, AvgAcc, label = filename + f\"axis={axis}, $R^2 =$ {r2score:.2f}\")\n",
    "    # plt.xlabel(\"Flow Rate $[m^3/h]$\")\n",
    "    # plt.ylabel(\"Average Acceleration\")\n",
    "    # plt.legend()\n",
    "    # plt.show()\n"
   ]
  }
 ],
 "metadata": {
  "kernelspec": {
   "display_name": "Python 3",
   "language": "python",
   "name": "python3"
  },
  "language_info": {
   "codemirror_mode": {
    "name": "ipython",
    "version": 3
   },
   "file_extension": ".py",
   "mimetype": "text/x-python",
   "name": "python",
   "nbconvert_exporter": "python",
   "pygments_lexer": "ipython3",
   "version": "3.11.1"
  }
 },
 "nbformat": 4,
 "nbformat_minor": 2
}
